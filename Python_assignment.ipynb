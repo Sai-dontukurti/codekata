{
  "nbformat": 4,
  "nbformat_minor": 0,
  "metadata": {
    "colab": {
      "name": "Python_assignment.ipynb",
      "provenance": [],
      "collapsed_sections": [],
      "authorship_tag": "ABX9TyOCJfJ3gSYUdLZjktSTZFMx"
    },
    "kernelspec": {
      "name": "python3",
      "display_name": "Python 3"
    },
    "language_info": {
      "name": "python"
    }
  },
  "cells": [
    {
      "cell_type": "code",
      "metadata": {
        "id": "0p_FLaGI7lI7"
      },
      "source": [
        "#day1 \n",
        "# creating a list and sorting it with descending order"
      ],
      "execution_count": 1,
      "outputs": []
    },
    {
      "cell_type": "code",
      "metadata": {
        "colab": {
          "base_uri": "https://localhost:8080/"
        },
        "id": "zZ8n8WZO7svj",
        "outputId": "1ddd9585-a6d0-4ba6-bb28-b9299ae1b33f"
      },
      "source": [
        "li = [int(i) for i in input(\"enter values : \").split()]"
      ],
      "execution_count": 2,
      "outputs": [
        {
          "output_type": "stream",
          "text": [
            "enter values : 1 2 222 3 4 5\n"
          ],
          "name": "stdout"
        }
      ]
    },
    {
      "cell_type": "code",
      "metadata": {
        "colab": {
          "base_uri": "https://localhost:8080/"
        },
        "id": "jApvGtIP79Rx",
        "outputId": "ba348255-33b2-4431-e7f7-f88194f41523"
      },
      "source": [
        "li.sort(reverse = True)\n",
        "print(li)"
      ],
      "execution_count": 7,
      "outputs": [
        {
          "output_type": "stream",
          "text": [
            "[222, 5, 4, 3, 2, 1]\n"
          ],
          "name": "stdout"
        }
      ]
    },
    {
      "cell_type": "code",
      "metadata": {
        "id": "75rEPAft8GPa"
      },
      "source": [
        "# Day 2\n",
        "# Delete all occurences of an element in a list\n"
      ],
      "execution_count": 8,
      "outputs": []
    },
    {
      "cell_type": "code",
      "metadata": {
        "colab": {
          "base_uri": "https://localhost:8080/"
        },
        "id": "N5kYvdIC82d7",
        "outputId": "96bdf033-0444-434b-e5a5-7988b6c7755a"
      },
      "source": [
        "list_1 = [1,4,4,4, 4, 4, 6, 6, 6, 7, 8, 9]\n",
        "x = int(input(\"Enter the occurence number in the list : \"))\n",
        "while x in list_1:\n",
        "  list_1.remove(x)\n",
        "\n",
        "print(list_1)"
      ],
      "execution_count": 10,
      "outputs": [
        {
          "output_type": "stream",
          "text": [
            "Enter the occurence number in the list : 4\n",
            "[1, 6, 6, 6, 7, 8, 9]\n"
          ],
          "name": "stdout"
        }
      ]
    },
    {
      "cell_type": "code",
      "metadata": {
        "id": "NjmO8w9d-jgY"
      },
      "source": [
        "# Check whether a string is a pangram"
      ],
      "execution_count": 11,
      "outputs": []
    },
    {
      "cell_type": "code",
      "metadata": {
        "colab": {
          "base_uri": "https://localhost:8080/"
        },
        "id": "xxc_01i7-1o1",
        "outputId": "76145e79-e711-4ea6-9b22-aa056d1a994d"
      },
      "source": [
        "import string\n",
        "def ispangram(str):\n",
        "   alphabet = \"abcdefghijklmnopqrstuvwxyz\"\n",
        "   for char in alphabet:\n",
        "      if char not in str.lower():\n",
        "         return False\n",
        "   return True\n",
        "\n",
        "string = str(input(\"Enter the string:\"))\n",
        "if(ispangram(string) == True):\n",
        "   print(\"Yes, it is a pangram\")\n",
        "else:\n",
        "   print(\"No, it is not a pangram\")"
      ],
      "execution_count": 19,
      "outputs": [
        {
          "output_type": "stream",
          "text": [
            "Enter the string:'The five boxing wizards jump quickly.'\n",
            "Yes, it is a pangram\n"
          ],
          "name": "stdout"
        }
      ]
    },
    {
      "cell_type": "code",
      "metadata": {
        "id": "r5iRexm5AJeh"
      },
      "source": [
        ""
      ],
      "execution_count": null,
      "outputs": []
    }
  ]
}